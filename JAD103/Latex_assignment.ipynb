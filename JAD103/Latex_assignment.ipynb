{
  "nbformat": 4,
  "nbformat_minor": 0,
  "metadata": {
    "colab": {
      "name": "Latex-assignment",
      "provenance": [],
      "collapsed_sections": []
    },
    "kernelspec": {
      "name": "python3",
      "display_name": "Python 3"
    },
    "language_info": {
      "name": "python"
    }
  },
  "cells": [
    {
      "cell_type": "markdown",
      "metadata": {
        "id": "xa9u3N-tyVE_"
      },
      "source": [
        "Dear learners, \n",
        "\n",
        "You are required to:\n",
        "\n",
        "    Write equation no 3 and 4 as illustrated in class\n",
        "    Add a YouTube link to your markdown file \n",
        "\n",
        "Then remember to submit your work for review.\n",
        "\n",
        "Thank you"
      ]
    },
    {
      "cell_type": "markdown",
      "metadata": {
        "id": "qqvXKd8qc3vd"
      },
      "source": [
        "3. (a) (i) Define what it means to say that a square matrix with real entries is ***diagonalisable*** over \n",
        "$\\mathbb{R}$\n",
        " "
      ]
    },
    {
      "cell_type": "markdown",
      "metadata": {
        "id": "EnHrT1pMd9B7"
      },
      "source": [
        "(ii) Show that if $A$ is a square matrix with real entries and **u** and **v** are eigen values of $A$ corresponding to different eigenvalues, then **u** and **v** are linearly independent."
      ]
    },
    {
      "cell_type": "markdown",
      "metadata": {
        "id": "BnRcx7lgd9Gb"
      },
      "source": [
        "(b) (i) Consider $2 \\times 2$ real square matrix\n",
        "\n",
        "\\begin{equation*}\n",
        "A = \n",
        "\\begin{pmatrix}\n",
        "a & a \\\\\n",
        "b & d \\\\\n",
        "\\end{pmatrix}\n",
        "\\end{equation*}\n",
        "\n",
        "Show tha $A$ has atleast one real eigenvalue,, and that if $ a \\neq d $ or $ b \\neq 0$, then it has two sitinct real eigen values. Deduce that $A$ is diagonalisable.\n"
      ]
    },
    {
      "cell_type": "markdown",
      "metadata": {
        "id": "-oBYFs7rkPGl"
      },
      "source": [
        "(ii) Determine the values of $\\alpha$ and $\\beta$ for which the real matrix\n",
        "\n",
        "\\begin{equation*}\n",
        "A = \n",
        "\\begin{pmatrix}\n",
        "1 & \\alpha \\\\\n",
        "\\beta & 1 \\\\\n",
        "\\end{pmatrix}\n",
        "\\end{equation*}\n",
        "is diagonalisable.\n",
        "\n",
        "(iii) Determine the values of $\\alpha$ and $\\beta$ for which the real matrix\n",
        "\n",
        "\\begin{equation*}\n",
        "A = \n",
        "\\begin{pmatrix}\n",
        "a & b \\\\\n",
        "c & a \\\\\n",
        "\\end{pmatrix}\n",
        "\\end{equation*}\n",
        "is diagonalisable.\n",
        "\n",
        "\n",
        "\n",
        "\n",
        "\n"
      ]
    },
    {
      "cell_type": "markdown",
      "metadata": {
        "id": "Zc9zsacZp3C2"
      },
      "source": [
        "4. Let **u** and **w** be vectors in $\\mathbb{R}^3$ \n",
        "\n",
        "(a) (7 points) (i) Prove that **u**, **v** and **w** are linearly independent if and only if **u**. (**v** $\\wedge$ **v**) $\\neq$ $0$. \n"
      ]
    },
    {
      "cell_type": "markdown",
      "metadata": {
        "id": "tFred3uPtnIw"
      },
      "source": [
        "(ii) Establish the identity \n",
        "\n",
        "**u** $\\wedge $(**w** $\\wedge$ **v** )$=$ (**u**$.$**v**)**w** $-$(**u**$.$**w**)**v**."
      ]
    },
    {
      "cell_type": "markdown",
      "metadata": {
        "id": "DAfLhQ0hubo_"
      },
      "source": [
        "(b) (7 points) (i) Prove that **u**, **v** and **w** are linearly independent if and only if **v** $\\wedge$ **w** , **w** $\\wedge$ **u**  and **u** $\\wedge$ **v**  are linearly independent\n",
        "\n",
        "(C)(6 points) Suppose that **u** **v** and **w** are linearly independent and that\n",
        "\n",
        "**r**$=$ $\\alpha$**u** $+ \\beta$**v** $+c$**w**.\n",
        "\n",
        "Find the coeffiecients $\\alpha, \\beta$ abd $\\gamma$ such that \n",
        "\n",
        "**r**$=$ $\\alpha$**v**$\\wedge$**w** $+ \\beta$**w**$\\wedge$**u** $+\\gamma$**u**$\\wedge$**v**.\n",
        "\n",
        "\n"
      ]
    },
    {
      "cell_type": "markdown",
      "metadata": {
        "id": "ZR0ScCRuvASR"
      },
      "source": [
        "[Youtube link](https://youtube.com)"
      ]
    },
    {
      "cell_type": "code",
      "metadata": {
        "id": "yO-OzYq8xdaN"
      },
      "source": [
        ""
      ],
      "execution_count": null,
      "outputs": []
    }
  ]
}